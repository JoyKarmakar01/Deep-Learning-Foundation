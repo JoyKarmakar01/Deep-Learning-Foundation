{
 "cells": [
  {
   "cell_type": "markdown",
   "id": "1fe040eb",
   "metadata": {},
   "source": [
    "A feedforward neural network (FFNN) is one of the simplest types of artificial neural networks. Here’s an easy explanation:\n",
    "\n",
    "#### Basic Definition:\n",
    "A feedforward neural network is a type of artificial neural network where the connections between the nodes (neurons) do not form cycles. Information moves in one direction—from the input nodes, through the hidden layers, and finally to the output nodes. There are no loops or cycles in the network.\n",
    "\n",
    "#### Key Components:\n",
    "1. Input Layer: This is where the network takes in data. Each neuron in this layer represents an input feature (e.g., pixel values in an image).\n",
    "2. Hidden Layers: These layers process the inputs. Each neuron in a hidden layer applies a mathematical function to the inputs and passes the result to the next layer. The network can have one or more hidden layers.\n",
    "3. Output Layer: This layer provides the final output of the network, such as a classification or a prediction.\n",
    "#### How It Works:\n",
    "4. Forward Propagation: Data flows forward through the network. Each neuron receives input from the previous layer, applies a weight (which adjusts the strength of the input), adds a bias, and passes the result through an activation function. This process repeats until the output layer is reached.\n",
    "5. No Feedback: Unlike other neural networks like recurrent neural networks (RNNs), FFNNs do not have connections that loop back. Information only moves forward.\n",
    "#### Example:\n",
    "Imagine you have a simple FFNN to classify images of handwritten digits (0-9). The steps might look like this:\n",
    "\n",
    "1. Input Layer: Receives pixel values of an image.\n",
    "2. Hidden Layers: Process the pixel values to identify patterns and features (like edges or shapes).\n",
    "3. Output Layer: Produces probabilities for each digit (0-9) and the digit with the highest probability is the network's guess for the image.\n",
    "#### Use Cases:\n",
    "1. Image Recognition: Classifying images into different categories (e.g., recognizing handwritten digits).\n",
    "2. Speech Recognition: Converting spoken words into text.\n",
    "3. Financial Predictions: Predicting stock prices or market trends.\n",
    "4. Medical Diagnosis: Identifying diseases from medical images or data.\n",
    "\n",
    "\n",
    "Simple Example in Code (Using TensorFlow/Keras):\n",
    "Here's a basic example of a feedforward neural network for classifying handwritten digits using the MNIST dataset:"
   ]
  },
  {
   "cell_type": "code",
   "execution_count": 11,
   "id": "9c581991",
   "metadata": {},
   "outputs": [
    {
     "name": "stdout",
     "output_type": "stream",
     "text": [
      "Epoch 1/5\n",
      "\u001b[1m1875/1875\u001b[0m \u001b[32m━━━━━━━━━━━━━━━━━━━━\u001b[0m\u001b[37m\u001b[0m \u001b[1m5s\u001b[0m 2ms/step - accuracy: 0.8782 - loss: 0.4321\n",
      "Epoch 2/5\n",
      "\u001b[1m1875/1875\u001b[0m \u001b[32m━━━━━━━━━━━━━━━━━━━━\u001b[0m\u001b[37m\u001b[0m \u001b[1m4s\u001b[0m 2ms/step - accuracy: 0.9624 - loss: 0.1265\n",
      "Epoch 3/5\n",
      "\u001b[1m1875/1875\u001b[0m \u001b[32m━━━━━━━━━━━━━━━━━━━━\u001b[0m\u001b[37m\u001b[0m \u001b[1m4s\u001b[0m 2ms/step - accuracy: 0.9739 - loss: 0.0838\n",
      "Epoch 4/5\n",
      "\u001b[1m1875/1875\u001b[0m \u001b[32m━━━━━━━━━━━━━━━━━━━━\u001b[0m\u001b[37m\u001b[0m \u001b[1m4s\u001b[0m 2ms/step - accuracy: 0.9825 - loss: 0.0579\n",
      "Epoch 5/5\n",
      "\u001b[1m1875/1875\u001b[0m \u001b[32m━━━━━━━━━━━━━━━━━━━━\u001b[0m\u001b[37m\u001b[0m \u001b[1m4s\u001b[0m 2ms/step - accuracy: 0.9870 - loss: 0.0439\n",
      "\u001b[1m313/313\u001b[0m \u001b[32m━━━━━━━━━━━━━━━━━━━━\u001b[0m\u001b[37m\u001b[0m \u001b[1m0s\u001b[0m 1ms/step - accuracy: 0.9735 - loss: 0.0892\n"
     ]
    },
    {
     "data": {
      "text/plain": [
       "[0.07670623064041138, 0.9775999784469604]"
      ]
     },
     "execution_count": 11,
     "metadata": {},
     "output_type": "execute_result"
    }
   ],
   "source": [
    "# Step 1: Import Libraries\n",
    "import tensorflow as tf\n",
    "from tensorflow.keras.datasets import mnist\n",
    "from tensorflow.keras.models import Sequential\n",
    "from tensorflow.keras.layers import Dense, Flatten\n",
    "\n",
    "# Step 2: Load and Prepare Data\n",
    "(x_train, y_train), (x_test, y_test) = mnist.load_data()\n",
    "x_train, x_test = x_train / 255.0, x_test / 255.0\n",
    "\n",
    "# Step 3: Build the Model\n",
    "model = Sequential([\n",
    "    Flatten(input_shape=(28, 28)),  # Flatten the 28x28 images into a 1D vector of 784 inputs\n",
    "    Dense(128, activation='relu'),  # First hidden layer with 128 neurons and ReLU activation\n",
    "    Dense(10, activation='softmax') # Output layer with 10 neurons (one for each digit) and softmax activation\n",
    "])\n",
    "\n",
    "# Step 4: Compile the Model\n",
    "model.compile(optimizer='adam', \n",
    "              loss='sparse_categorical_crossentropy', \n",
    "              metrics=['accuracy'])\n",
    "\n",
    "# Step 5: Train the Model\n",
    "model.fit(x_train, y_train, epochs=5)\n",
    "\n",
    "# Step 6: Evaluate the Model\n",
    "model.evaluate(x_test, y_test)"
   ]
  },
  {
   "cell_type": "code",
   "execution_count": 12,
   "id": "8bbd4191",
   "metadata": {},
   "outputs": [
    {
     "name": "stdout",
     "output_type": "stream",
     "text": [
      "\u001b[1m313/313\u001b[0m \u001b[32m━━━━━━━━━━━━━━━━━━━━\u001b[0m\u001b[37m\u001b[0m \u001b[1m0s\u001b[0m 1ms/step - accuracy: 0.9735 - loss: 0.0892\n",
      "Loss: 0.0767\n",
      "Accuracy: 97.76%\n"
     ]
    }
   ],
   "source": [
    "# Evaluate the model\n",
    "results = model.evaluate(x_test, y_test)\n",
    "\n",
    "# Print the results\n",
    "print(f\"Loss: {results[0]:.4f}\")\n",
    "print(f\"Accuracy: {results[1] * 100:.2f}%\")"
   ]
  },
  {
   "cell_type": "code",
   "execution_count": null,
   "id": "bf6b19db",
   "metadata": {},
   "outputs": [],
   "source": []
  }
 ],
 "metadata": {
  "kernelspec": {
   "display_name": "Python 3 (ipykernel)",
   "language": "python",
   "name": "python3"
  },
  "language_info": {
   "codemirror_mode": {
    "name": "ipython",
    "version": 3
   },
   "file_extension": ".py",
   "mimetype": "text/x-python",
   "name": "python",
   "nbconvert_exporter": "python",
   "pygments_lexer": "ipython3",
   "version": "3.9.12"
  }
 },
 "nbformat": 4,
 "nbformat_minor": 5
}
